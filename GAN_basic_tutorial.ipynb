{
 "cells": [
  {
   "cell_type": "markdown",
   "id": "57d9b79c-71a8-4633-beb2-58059865a09b",
   "metadata": {},
   "source": [
    "GANs are composed of two models trained in unison. The first model, the generator, takes in some random input and tries to output something that looks like our training data. The second model, the discriminator, takes in training data and generated data and tries to distinguish the fake generated data from the real training data. What makes this framework interesting is that these models are trained together. As the discriminator gets better at recognizing fake images this learning is passed to the generator and the generator gets better at generating fake images. To overuse an analogy the generator is to the discriminator as a counterfeiter is to FBI investigators. One tries to forge data, the other tries to distinguish forgeries from the real deal.\n",
    "\n",
    "This framework has produced a ton of super interesting results in the last few years from translating horses to zebras, to creating deep fakes, to imagining up wholly new images. In this tutorial we aren’t going to do anything as interesting as those but this should give you all of the background you need in order to successfully implement a GAN of your own from scratch : ). Let’s get started."
   ]
  },
  {
   "cell_type": "markdown",
   "id": "37df3be4-957d-4006-843b-2dc78667c092",
   "metadata": {},
   "source": [
    "Problem Definition\n",
    "\n",
    "Imagine that we have a data set of all even numbers between zero and 128. This is a subset of a much bigger distribution of data, the integers, with some specific properties, much like how human faces are a subset of all images of living things. Our generator is going to take in random noise as an integer in that same range and learn to produce only even numbers.\n",
    "\n",
    "Before getting into the actual model let’s build out our data set. We are going to represent each integer as it’s unsigned seven bit binary representation. So the number 56 is 0111000. We do this because:\n",
    "\n",
    "    It is very natural to pass in a binary vector to a machine learning algorithm, in this case, a neural network.\n",
    "    It is easy to see if the model is generating even numbers by looking at the lowest bit. If it’s a one the number is odd, if it’s a zero the number is even.\n",
    "\n",
    "To start let’s write a function which converts any positive integer to its binary form as a list."
   ]
  },
  {
   "cell_type": "code",
   "execution_count": 2,
   "id": "aa3ff16c-68c6-4750-b98d-62c4923e3d33",
   "metadata": {},
   "outputs": [],
   "source": [
    "from typing import List\n",
    "\n",
    "def create_binary_list_from_int(number: int) -> List[int]:\n",
    "    if number < 0 or type(number) is not int:\n",
    "        raise ValueError(\"Only Positive integers are allowed\")\n",
    "\n",
    "    return [int(x) for x in list(bin(number))[2:]]"
   ]
  },
  {
   "cell_type": "markdown",
   "id": "2c53f481-37c2-4b55-8559-3615a581e555",
   "metadata": {},
   "source": [
    "With this we can make a function which will generate random training data for us on the fly."
   ]
  },
  {
   "cell_type": "code",
   "execution_count": 6,
   "id": "0f64721a-a839-4821-8cc0-b6617247e5d6",
   "metadata": {},
   "outputs": [],
   "source": [
    "def generate_even_data(max_int: int, batch_size: int=16) -> tuple[List[int], List[List[int]]]:\n",
    "    # Get the number of binary places needed to represent the maximum number\n",
    "    max_length = int(math.log(max_int, 2))\n",
    "\n",
    "    # Sample batch_size number of integers in range 0-max_int\n",
    "    sampled_integers = np.random.randint(0, int(max_int / 2), batch_size)\n",
    "\n",
    "    # create a list of labels all ones because all numbers are even\n",
    "    labels = [1] * batch_size\n",
    "\n",
    "    # Generate a list of binary numbers for training.\n",
    "    data = [create_binary_list_from_int(int(x * 2)) for x in sampled_integers]\n",
    "    data = [([0] * (max_length - len(x))) + x for x in data]\n",
    "\n",
    "    return labels, data"
   ]
  },
  {
   "cell_type": "markdown",
   "id": "6a8595d4-110d-4a71-b020-f62152620c0a",
   "metadata": {},
   "source": [
    "This function will produce two outputs the first is a list of ones representing that this data is even and comes from our true distribution. The second output is a random even number in binary list form. That’s all we need to start building and training our models!"
   ]
  },
  {
   "cell_type": "markdown",
   "id": "d90f4b08-5aed-477f-9e48-1330726f5055",
   "metadata": {},
   "source": [
    "Building the Generator and Discriminator\n",
    "Generator\n",
    "\n",
    "Building the Generator and Discriminator is a snap! Let’s start with the Generator. We need something capable of mapping random seven digit binary input to seven digit binary input that is even. The simplest possible thing here is a single seven neuron layer."
   ]
  },
  {
   "cell_type": "code",
   "execution_count": 2,
   "id": "f40f0e90-fb77-4f96-81a0-f0b0dfe64e8e",
   "metadata": {},
   "outputs": [],
   "source": [
    "import torch"
   ]
  },
  {
   "cell_type": "code",
   "execution_count": 3,
   "id": "40f51b4a-1856-4261-8405-b9e79c1b2491",
   "metadata": {},
   "outputs": [],
   "source": [
    "from typing import Optional\n",
    "import math\n",
    "import torch.nn as nn\n",
    "\n",
    "class Generator(nn.Module):\n",
    "\n",
    "    def __init__(self, input_length: int):\n",
    "        super(Generator, self).__init__()\n",
    "        self.dense_layer = nn.Linear(int(input_length), int(input_length))\n",
    "        self.activation = nn.Sigmoid()\n",
    "\n",
    "    def forward(self, x):\n",
    "        return self.activation(self.dense_layer(x))"
   ]
  },
  {
   "cell_type": "code",
   "execution_count": null,
   "id": "43cbfad0-849e-4cec-969b-7660e126f10c",
   "metadata": {},
   "outputs": [],
   "source": []
  },
  {
   "cell_type": "markdown",
   "id": "264da8da-4a53-4fef-9256-00953629d38a",
   "metadata": {},
   "source": [
    "If we were building a GAN to do something more complicated on say images we would probably train it using random noise generated from a normal distribution and gradually upsample and reshape it until it’s the same size as the data we are trying to copy. Since our example is so simple, a single linear layer with a logistic (sigmoid) activation should be enough to map ones and zeros in seven positions to other ones and zeros in seven positions."
   ]
  },
  {
   "cell_type": "markdown",
   "id": "a7427a65-c430-4f54-b272-61eaaad9573b",
   "metadata": {},
   "source": [
    "Discriminator\n",
    "\n",
    "The Discriminator is no more complicated than the Generator. Here we need a model to take in a seven digit binary input and output whether or not it is from our real data distribution (is even) or not (is odd or not a number). To accomplish this we use a single neuron model (logistic regression) with a logistic activation (Sigmoid)."
   ]
  },
  {
   "cell_type": "code",
   "execution_count": 4,
   "id": "80b14b2d-bdc0-499e-9b7d-68ba9b954f3f",
   "metadata": {},
   "outputs": [],
   "source": [
    "class Discriminator(nn.Module):\n",
    "    def __init__(self, input_length: int):\n",
    "        super(Discriminator, self).__init__()\n",
    "        self.dense = nn.Linear(int(input_length), 1);\n",
    "        self.activation = nn.Sigmoid()\n",
    "\n",
    "    def forward(self, x):\n",
    "        return self.activation(self.dense(x))"
   ]
  },
  {
   "cell_type": "markdown",
   "id": "2a27f65e-f110-46a9-bbb5-e46d278d65cb",
   "metadata": {},
   "source": [
    "That’s it, we’ve built the two models which we will train in unison. Now for the tricky part of GAN training, the training. We need to link these models up in a way that can propagate the gradients around correctly."
   ]
  },
  {
   "cell_type": "markdown",
   "id": "9f650402-769b-46cf-b201-043d2a95415d",
   "metadata": {},
   "source": [
    "Training the Model\n",
    "\n",
    "Training GANs can seem a bit confusing at first because we need to update two models with every bit of input and we need to be careful about how we do that. So to break it down, we pass two batches of data to our model at every training step. One batch is random noise which will cause the generator to create some generated data, and the second batch is composed solely of data from our true distribution. Throughout the training description, I will reference line numbers in the final training code gist below, not the Github repository."
   ]
  },
  {
   "cell_type": "code",
   "execution_count": 5,
   "id": "d8072e34-a025-4094-9570-b42232b1d9c3",
   "metadata": {},
   "outputs": [],
   "source": [
    "import math\n",
    "\n",
    "import torch\n",
    "import torch.nn as nn\n",
    "\n",
    "\n",
    "def train(max_int: int = 128, batch_size: int = 16, training_steps: int = 500):\n",
    "    input_length = int(math.log(max_int, 2))\n",
    "\n",
    "    # Models\n",
    "    generator = Generator(input_length)\n",
    "    discriminator = Discriminator(input_length)\n",
    "\n",
    "    # Optimizers\n",
    "    generator_optimizer = torch.optim.Adam(generator.parameters(), lr=0.001)\n",
    "    discriminator_optimizer = torch.optim.Adam(discriminator.parameters(), lr=0.001)\n",
    "\n",
    "    # loss\n",
    "    loss = nn.BCELoss()\n",
    "\n",
    "    for i in range(training_steps):\n",
    "        # zero the gradients on each iteration\n",
    "        generator_optimizer.zero_grad()\n",
    "\n",
    "        # Create noisy input for generator\n",
    "        # Need float type instead of int\n",
    "        noise = torch.randint(0, 2, size=(batch_size, input_length)).float()\n",
    "        generated_data = generator(noise)\n",
    "\n",
    "        # Generate examples of even real data\n",
    "        true_labels, true_data = generate_even_data(max_int, batch_size=batch_size)\n",
    "        true_labels = torch.tensor(true_labels).float()\n",
    "        true_data = torch.tensor(true_data).float()\n",
    "\n",
    "        # Train the generator\n",
    "        # We invert the labels here and don't train the discriminator because we want the generator\n",
    "        # to make things the discriminator classifies as true.\n",
    "        generator_discriminator_out = discriminator(generated_data)\n",
    "        generator_loss = loss(generator_discriminator_out, true_labels)\n",
    "        generator_loss.backward()\n",
    "        generator_optimizer.step()\n",
    "\n",
    "        # Train the discriminator on the true/generated data\n",
    "        discriminator_optimizer.zero_grad()\n",
    "        true_discriminator_out = discriminator(true_data)\n",
    "        true_discriminator_loss = loss(true_discriminator_out, true_labels)\n",
    "\n",
    "        # add .detach() here think about this\n",
    "        generator_discriminator_out = discriminator(generated_data.detach())\n",
    "        generator_discriminator_loss = loss(generator_discriminator_out, torch.zeros(batch_size))\n",
    "        discriminator_loss = (true_discriminator_loss + generator_discriminator_loss) / 2\n",
    "        discriminator_loss.backward()\n",
    "        discriminator_optimizer.step()"
   ]
  },
  {
   "cell_type": "markdown",
   "id": "2528382c-2814-4799-8a53-5036dcdfde29",
   "metadata": {},
   "source": [
    "Train the Generator\n",
    "\n",
    "Let’s start by training the generator. This consists of:\n",
    "\n",
    "    Creating random noise. (Line 27)\n",
    "    Generating new “fake” data by passing the noise to the generator (Line 28)\n",
    "    Get the predictions from the discriminator on the “fake” data (Line 38)\n",
    "    Calculate the loss from the discriminator’s output using labels as if the data were “real” instead of fake. (Line 39)\n",
    "    Backpropagate the error through just the generator. (Lines 40–41)\n",
    "\n",
    "Notice how in step four we use true labels instead of fake labels for calculating the loss. This is because we are training the generator. The generator should be trying to fool the discriminator so when the discriminator makes a mistake and says the generated output is real (predicts 1) then the gradients should be small, when the discriminator acts correctly and predicts that the output is generated (predicts 0) the gradients should be big. This is why we only propagate the gradients through the generator at this step, because we inverted the labels. If we trained the entire model like this either the generator would learn the wrong thing or the discriminator would.\n",
    "Train the Discriminator\n",
    "\n",
    "Now it’s time to update the weights in our discriminator. We do that in a few steps:\n",
    "\n",
    "    Pass in a batch of only data from the true data set with a vector of all one labels. (Lines 44–46)\n",
    "    Pass our generated data into the discriminator, with detached weights, and zero labels. (Lines 49–50)\n",
    "    Average the loss from steps one and two. (Line 51)\n",
    "    Backpropagate the gradients through just the discriminator. (Lines 52–53)\n",
    "\n",
    "The discriminator is trying to learn to distinguish real data from “fake” generated data. The labels while training the discriminator need to represent that, i.e. one when our data comes from the real data set and zero when it is generated by our generator. We pass in those two batches in steps (1) and (2) above and then average the loss from the two batches. It’s important to note that when passing in the generated data we want to detach the gradients. We do this because we are not training the generator we are just focused on the discriminator. Once all of that is done we backpropagate the gradients in only the discriminator and we are done."
   ]
  },
  {
   "cell_type": "markdown",
   "id": "c62878ea-91a1-4852-9df4-38aee5d31032",
   "metadata": {},
   "source": [
    "Wrapping Up\n",
    "\n",
    "That’s it! We’ve built our entire GAN. Wrap that in a training loop with some gradient zeroing at each step and we’re ready to roll. If we look at the output of our generator at various training steps we can see it converging to only creating even numbers which is exactly what we wanted!"
   ]
  },
  {
   "cell_type": "markdown",
   "id": "19cf35b1-855a-4681-b929-3c4c6e689173",
   "metadata": {},
   "source": [
    "0   : [47, 3, 35, 1, 16, 56, 39, 16, 3, 1]\n",
    "50  : [2, 35, 34, 34, 38, 2, 34, 43, 3, 43]\n",
    "100 : [42, 43, 106, 38, 35, 42, 35, 42, 43, 106]\n",
    "200 : [108, 106, 106, 42, 106, 42, 106, 106, 42, 96]"
   ]
  },
  {
   "cell_type": "markdown",
   "id": "1cf2fc0a-038b-4a86-b93e-64257cbedfa4",
   "metadata": {},
   "source": [
    "At step zero we have 7/10 odd numbers in our sample and at step 200 10/10 of our samples are even numbers! That’s a successful generator and it only took ~50 lines of real Python code!"
   ]
  },
  {
   "cell_type": "markdown",
   "id": "4e029eef-09e7-4df7-a8b6-20c05616c177",
   "metadata": {},
   "source": [
    "What Next?\n",
    "\n",
    "As you’ve probably guessed there are some other tricks for training a GAN which generates non trivial output. Some immediate things to try if you want to make this model work on real data like images are:\n",
    "\n",
    "    The Generator will probably need to be a bit deeper and scale up the noise to the size of the real data. You can do this using transposed convolutions or upsampling layers.\n",
    "    Change the noise input to the generator to be Gaussian\n",
    "    Increase the depth of the discriminator so that its capacity for prediction is better.\n",
    "    Train for much much longer and monitor the loss.\n",
    "\n",
    "As a good next step try and implement the DCGAN architecture. This code will get you 90% of the way there. Once you’ve done that and made some fun images like those in the introduction, try and improve them by playing around with training hyper parameters. A good list of things to try when training real GANs can be found here."
   ]
  },
  {
   "cell_type": "code",
   "execution_count": null,
   "id": "a4c9aac3-2a3a-4df2-a7a2-bb47f3fab570",
   "metadata": {},
   "outputs": [],
   "source": []
  }
 ],
 "metadata": {
  "kernelspec": {
   "display_name": "Python 3 (ipykernel)",
   "language": "python",
   "name": "python3"
  },
  "language_info": {
   "codemirror_mode": {
    "name": "ipython",
    "version": 3
   },
   "file_extension": ".py",
   "mimetype": "text/x-python",
   "name": "python",
   "nbconvert_exporter": "python",
   "pygments_lexer": "ipython3",
   "version": "3.10.9"
  },
  "toc-autonumbering": false
 },
 "nbformat": 4,
 "nbformat_minor": 5
}
